{
 "metadata": {
  "language_info": {
   "codemirror_mode": {
    "name": "ipython",
    "version": 3
   },
   "file_extension": ".py",
   "mimetype": "text/x-python",
   "name": "python",
   "nbconvert_exporter": "python",
   "pygments_lexer": "ipython3",
   "version": "3.8.5-final"
  },
  "orig_nbformat": 2,
  "kernelspec": {
   "name": "python_defaultSpec_1600870731503",
   "display_name": "Python 3.8.5 64-bit"
  }
 },
 "nbformat": 4,
 "nbformat_minor": 2,
 "cells": [
  {
   "source": [
    "This will analyze the menu of PyRamen\n",
    "****\n"
   ],
   "cell_type": "markdown",
   "metadata": {}
  },
  {
   "cell_type": "code",
   "execution_count": 1,
   "metadata": {},
   "outputs": [],
   "source": [
    "# Import Libraries\n",
    "from pathlib import Path\n",
    "import csv\n",
    "from collections import Counter\n",
    "menu_filepath = Path(\"menu_data.csv\")\n",
    "sales_filepath = Path(\"sales_data.csv\")"
   ]
  },
  {
   "cell_type": "code",
   "execution_count": 2,
   "metadata": {},
   "outputs": [],
   "source": [
    "# Initialize List Objects to Hold Menu and Sales Data\n",
    "menu = []\n",
    "sales = []"
   ]
  },
  {
   "cell_type": "code",
   "execution_count": 3,
   "metadata": {
    "tags": []
   },
   "outputs": [],
   "source": [
    "# Read the Menu Data\n",
    "with open(menu_filepath, \"r\") as menu_file:\n",
    "    csvreader_menu = csv.reader(menu_file, delimiter = ',')\n",
    "\n",
    "    # Set Header\n",
    "    menu_header = next(csvreader_menu)\n",
    "\n",
    "    # Loop Over Data and Append to Menu List Object\n",
    "    for row in csvreader_menu:\n",
    "        item = row[0]\n",
    "        menu.append(item)\n",
    "        category = row[1]\n",
    "        menu.append(category)\n",
    "        description = row[2]\n",
    "        menu.append(description)\n",
    "        price = row[3]\n",
    "        menu.append(price)\n",
    "        cost = row[4]\n",
    "        menu.append(cost)"
   ]
  },
  {
   "cell_type": "code",
   "execution_count": 4,
   "metadata": {
    "tags": []
   },
   "outputs": [],
   "source": [
    "# Read the Sales Data\n",
    "with open(sales_filepath, \"r\") as sales_file:\n",
    "    csvreader_sales = csv.reader(sales_file, delimiter = ',')\n",
    "\n",
    "    # Set Header\n",
    "    sales_header = next(csvreader_sales)\n",
    "\n",
    "    # Loop Over Data and Append to Menu List Object\n",
    "    for row in csvreader_sales:\n",
    "        line_item_id = row[0]\n",
    "        sales.append(line_item_id)\n",
    "        date = row[1]\n",
    "        sales.append(date)\n",
    "        credit_card_number = row[2]\n",
    "        sales.append(credit_card_number)\n",
    "        quantity = row[3]\n",
    "        sales.append(quantity)\n",
    "        menu_item = row[4]\n",
    "        sales.append(menu_item)"
   ]
  },
  {
   "cell_type": "code",
   "execution_count": 6,
   "metadata": {},
   "outputs": [
    {
     "output_type": "error",
     "ename": "SyntaxError",
     "evalue": "unexpected EOF while parsing (<ipython-input-6-37f9f8167e64>, line 8)",
     "traceback": [
      "\u001b[0;36m  File \u001b[0;32m\"<ipython-input-6-37f9f8167e64>\"\u001b[0;36m, line \u001b[0;32m8\u001b[0m\n\u001b[0;31m    for row in sales:\u001b[0m\n\u001b[0m                     ^\u001b[0m\n\u001b[0;31mSyntaxError\u001b[0m\u001b[0;31m:\u001b[0m unexpected EOF while parsing\n"
     ]
    }
   ],
   "source": [
    "# Initialize Dict Object to Hold Key-Value Pairs of Items and Metrics\n",
    "report = {}\n",
    "\n",
    "# Initialize a Row Counter Variable\n",
    "row_count = 0\n",
    "\n",
    "# Loop Over Every Row in the Sales List Object\n",
    "for row in sales:"
   ]
  },
  {
   "cell_type": "code",
   "execution_count": null,
   "metadata": {},
   "outputs": [],
   "source": []
  }
 ]
}