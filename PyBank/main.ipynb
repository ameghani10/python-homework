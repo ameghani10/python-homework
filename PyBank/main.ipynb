{
 "metadata": {
  "language_info": {
   "codemirror_mode": {
    "name": "ipython",
    "version": 3
   },
   "file_extension": ".py",
   "mimetype": "text/x-python",
   "name": "python",
   "nbconvert_exporter": "python",
   "pygments_lexer": "ipython3",
   "version": "3.8.5-final"
  },
  "orig_nbformat": 2,
  "kernelspec": {
   "name": "python_defaultSpec_1600795919094",
   "display_name": "Python 3.8.5 64-bit"
  }
 },
 "nbformat": 4,
 "nbformat_minor": 2,
 "cells": [
  {
   "source": [
    "****\n",
    "\n",
    "This script will analyse the financial records of a company.\n",
    "\n",
    "****\n"
   ],
   "cell_type": "markdown",
   "metadata": {}
  },
  {
   "cell_type": "code",
   "execution_count": 45,
   "metadata": {},
   "outputs": [],
   "source": [
    "# Import Path and csv library and set file path\n",
    "\n",
    "from pathlib import Path\n",
    "import csv\n",
    "filepath = Path(\"budget_data.csv\")\n"
   ]
  },
  {
   "cell_type": "code",
   "execution_count": 46,
   "metadata": {},
   "outputs": [],
   "source": [
    "# Initialize list of records\n",
    "\n",
    "records = []\n"
   ]
  },
  {
   "cell_type": "code",
   "execution_count": 50,
   "metadata": {
    "tags": []
   },
   "outputs": [],
   "source": [
    "# Open csv file\n",
    "\n",
    "with open(filepath, \"r\") as budget_file:\n",
    "    csvreader = csv.reader(budget_file, delimiter = ',')\n",
    "\n",
    "    # Set header and metrics\n",
    "\n",
    "    header = next(csvreader)\n",
    "    header.append(\"change_profit\")\n",
    "    records.append(header)\n",
    "\n",
    "    count = 0\n",
    "    total_profit = 0\n",
    "    minimum = 0\n",
    "    maximum = 0\n",
    "    change_profit_line = 0\n",
    "    total_change_profit = 0\n",
    "    compute = False\n",
    "\n",
    "    for row in csvreader:\n",
    "\n",
    "        # Set variables\n",
    "\n",
    "        date = row[0]\n",
    "        profits = int(row[1])\n",
    "\n",
    "        # Calculate number of months, total profit, and average change in profit\n",
    "\n",
    "        count += 1\n",
    "        total_profit += profits\n",
    "\n",
    "        #change_profit =\n",
    "        if compute == True:\n",
    "\n",
    "            profit_change = profits - change_profit_line\n",
    "            change_profit_line = profits\n",
    "            total_change_profit += profit_change\n",
    "\n",
    "        else:\n",
    "\n",
    "            change_profit_line = profits\n",
    "            total_change_profit = 0\n",
    "            compute = True\n",
    "\n",
    "    average_change = round(total_change_profit / (count - 1), 2)\n",
    "\n",
    "        # Calculate the greatest increase and decrease in profit\n",
    "    "
   ]
  },
  {
   "cell_type": "code",
   "execution_count": null,
   "metadata": {},
   "outputs": [],
   "source": []
  }
 ]
}