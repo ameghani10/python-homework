{
 "metadata": {
  "language_info": {
   "codemirror_mode": {
    "name": "ipython",
    "version": 3
   },
   "file_extension": ".py",
   "mimetype": "text/x-python",
   "name": "python",
   "nbconvert_exporter": "python",
   "pygments_lexer": "ipython3",
   "version": "3.8.5-final"
  },
  "orig_nbformat": 2,
  "kernelspec": {
   "name": "python_defaultSpec_1600604446209",
   "display_name": "Python 3.8.5 64-bit"
  }
 },
 "nbformat": 4,
 "nbformat_minor": 2,
 "cells": [
  {
   "source": [
    "****\n",
    "\n",
    "This script will analyse the financial records of a company.\n",
    "\n",
    "****\n"
   ],
   "cell_type": "markdown",
   "metadata": {}
  },
  {
   "cell_type": "code",
   "execution_count": 1,
   "metadata": {},
   "outputs": [],
   "source": [
    "# Import Path and csv library and set file path\n",
    "\n",
    "from pathlib import Path\n",
    "import csv\n",
    "filepath = Path(\"budget_data.csv\")\n"
   ]
  },
  {
   "cell_type": "code",
   "execution_count": 2,
   "metadata": {},
   "outputs": [],
   "source": [
    "# Initialize list of records\n",
    "\n",
    "records = []\n"
   ]
  },
  {
   "cell_type": "code",
   "execution_count": 37,
   "metadata": {
    "tags": []
   },
   "outputs": [
    {
     "output_type": "stream",
     "name": "stdout",
     "text": "1\n"
    }
   ],
   "source": [
    "# Open csv file\n",
    "\n",
    "with open(filepath, \"r\") as budget_file:\n",
    "    csvreader = csv.reader(budget_file, delimiter = ',')\n",
    "\n",
    "    # Set header\n",
    "\n",
    "    header = next(csvreader)\n",
    "\n",
    "    for row in csvreader:\n",
    "\n",
    "        # Set variables\n",
    "\n",
    "        date = row[0]\n",
    "        profits = row[1]\n",
    "\n",
    "        # Calculate number of months, total profit, and average profit\n",
    "\n",
    "        count = 0\n",
    "        total_profit = 0    "
   ]
  },
  {
   "cell_type": "code",
   "execution_count": null,
   "metadata": {},
   "outputs": [],
   "source": []
  }
 ]
}