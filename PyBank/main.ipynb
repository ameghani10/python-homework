{
 "metadata": {
  "language_info": {
   "codemirror_mode": {
    "name": "ipython",
    "version": 3
   },
   "file_extension": ".py",
   "mimetype": "text/x-python",
   "name": "python",
   "nbconvert_exporter": "python",
   "pygments_lexer": "ipython3",
   "version": "3.8.5-final"
  },
  "orig_nbformat": 2,
  "kernelspec": {
   "name": "python_defaultSpec_1600795919094",
   "display_name": "Python 3.8.5 64-bit"
  }
 },
 "nbformat": 4,
 "nbformat_minor": 2,
 "cells": [
  {
   "source": [
    "****\n",
    "\n",
    "This script will analyse the financial records of a company.\n",
    "\n",
    "****\n"
   ],
   "cell_type": "markdown",
   "metadata": {}
  },
  {
   "cell_type": "code",
   "execution_count": 61,
   "metadata": {},
   "outputs": [],
   "source": [
    "# Import Path and csv library and set file path\n",
    "\n",
    "from pathlib import Path\n",
    "import csv\n",
    "filepath = Path(\"budget_data.csv\")\n"
   ]
  },
  {
   "cell_type": "code",
   "execution_count": 62,
   "metadata": {},
   "outputs": [],
   "source": [
    "# Initialize list of records\n",
    "\n",
    "records = []\n"
   ]
  },
  {
   "cell_type": "code",
   "execution_count": 68,
   "metadata": {
    "tags": []
   },
   "outputs": [],
   "source": [
    "# Open csv file\n",
    "\n",
    "with open(filepath, \"r\") as budget_file:\n",
    "    csvreader = csv.reader(budget_file, delimiter = ',')\n",
    "\n",
    "    # Set header and metrics\n",
    "\n",
    "    header = next(csvreader)\n",
    "    header.append(\"change_profit\")\n",
    "    records.append(header)\n",
    "\n",
    "    count = 0\n",
    "    total_profit = 0\n",
    "    minimum = 0\n",
    "    maximum = 0\n",
    "    change_profit_line = 0\n",
    "    total_change_profit = 0\n",
    "    compute = False\n",
    "\n",
    "    for row in csvreader:\n",
    "\n",
    "        # Set variables\n",
    "\n",
    "        date = row[0]\n",
    "        profits = int(row[1])\n",
    "\n",
    "        # Calculate number of months, total profit, and average change in profit\n",
    "\n",
    "        count += 1\n",
    "        total_profit += profits\n",
    "\n",
    "        #change_profit =\n",
    "        \n",
    "        if compute == True:\n",
    "\n",
    "            profit_change = profits - change_profit_line\n",
    "            change_profit_line = profits\n",
    "            total_change_profit += profit_change\n",
    "\n",
    "        else:\n",
    "\n",
    "            change_profit_line = profits\n",
    "            total_change_profit = 0\n",
    "            compute = True\n",
    "\n",
    "        row.append(profit_change)\n",
    "        records.append(profit_change)\n",
    "\n",
    "        # Calculate the greatest increase and decrease in profit\n",
    "\n",
    "        if minimum == 0:\n",
    "            minimum = profit_change\n",
    "        elif profit_change < minimum:\n",
    "            minimum = profit_change\n",
    "        elif profit_change > maximum:\n",
    "            maximum = profit_change\n",
    "    \n",
    "    average_change = round(total_change_profit / (count - 1), 2)\n"
   ]
  },
  {
   "cell_type": "code",
   "execution_count": 74,
   "metadata": {
    "tags": []
   },
   "outputs": [
    {
     "output_type": "stream",
     "name": "stdout",
     "text": "FINANCIAL ANALYSIS\n-------------------------------\nTotal Months: 86\nTotal: $38382578\nAverage Change: $-2315.12\nGreatest increase in profit: $1926159\nGreatest decrease in profit: $-2196167\n"
    }
   ],
   "source": [
    "# Print Analysis\n",
    "\n",
    "print(\"FINANCIAL ANALYSIS\")\n",
    "print(\"-------------------------------\")\n",
    "print(f\"Total Months: {count}\")\n",
    "print(f\"Total: ${total_profit}\")\n",
    "print(f\"Average Change: ${average_change}\")\n",
    "print(f\"Greatest increase in profit: ${maximum}\")\n",
    "print(f\"Greatest decrease in profit: ${minimum}\")\n"
   ]
  },
  {
   "cell_type": "code",
   "execution_count": 88,
   "metadata": {},
   "outputs": [],
   "source": [
    "# Output to text file\n",
    "\n",
    "financial_analysis_result = open(\"financial_analysis_result\", \"w\")\n",
    "\n",
    "with open(\"financial_analysis_result.txt\", \"w\") as financial_analysis_result:\n",
    "\n",
    "    financial_analysis_result.write(\"FINANCIAL ANALYSIS\\n\")\n",
    "    financial_analysis_result.write(\"-------------------\\n\")\n",
    "    financial_analysis_result.write(f\"Total Months: ${str(count)}\\n\")\n",
    "    financial_analysis_result.write(f\"Total: ${str(total_profit)}\\n\")\n",
    "    financial_analysis_result.write(f\"Average Change: ${str(average_change)}\\n\")\n",
    "    financial_analysis_result.write(f\"Greatest increase in profit: ${str(maximum)}\\n\")\n",
    "    financial_analysis_result.write(f\"Greatest decrease in profit: ${str(minimum)}\\n\")\n",
    "    "
   ]
  },
  {
   "cell_type": "code",
   "execution_count": null,
   "metadata": {},
   "outputs": [],
   "source": []
  }
 ]
}