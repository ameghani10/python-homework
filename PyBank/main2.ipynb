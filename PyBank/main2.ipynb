{
 "metadata": {
  "language_info": {
   "codemirror_mode": {
    "name": "ipython",
    "version": 3
   },
   "file_extension": ".py",
   "mimetype": "text/x-python",
   "name": "python",
   "nbconvert_exporter": "python",
   "pygments_lexer": "ipython3",
   "version": "3.8.5-final"
  },
  "orig_nbformat": 2,
  "kernelspec": {
   "name": "python_defaultSpec_1600861621762",
   "display_name": "Python 3.8.5 64-bit"
  }
 },
 "nbformat": 4,
 "nbformat_minor": 2,
 "cells": [
  {
   "source": [
    "This Script will analyze the financial records of a company.\n",
    "****\n"
   ],
   "cell_type": "markdown",
   "metadata": {}
  },
  {
   "cell_type": "code",
   "execution_count": 44,
   "metadata": {},
   "outputs": [],
   "source": [
    "# Import Data\n",
    "from pathlib import Path\n",
    "import csv\n",
    "filepath = Path(\"budget_data.csv\")"
   ]
  },
  {
   "cell_type": "code",
   "execution_count": 52,
   "metadata": {
    "tags": []
   },
   "outputs": [
    {
     "output_type": "stream",
     "name": "stdout",
     "text": "FINANCIAL ANALYSIS\n-------------------------------\nTotal Months: 86\nTotal: $38382578\nAverage Change: $-2315.12\nGreatest increase in profit: Feb-2012 $(1926159)\nGreatest decrease in profit: Sep-2013 $(-2196167)\n"
    }
   ],
   "source": [
    "# Open Csvfile\n",
    "with open(filepath, \"r\") as budget_file:\n",
    "    csvreader = csv.reader(budget_file, delimiter = ',')\n",
    "\n",
    "    # Set Header\n",
    "    header = next(csvreader)\n",
    "\n",
    "    # Initialize Metrics\n",
    "    count = 0\n",
    "    total_profit = 0\n",
    "    minimum = 0\n",
    "    maximum = 0\n",
    "    compute = False\n",
    "    total_change = 0\n",
    "    change_line = 0\n",
    "\n",
    "    # Loop through Data\n",
    "    for row in csvreader:\n",
    "        \n",
    "        # Set Variables\n",
    "        date = row[0]\n",
    "        profit = int(row[1])\n",
    "\n",
    "        # Get Total Entries and Total Profit/Loss\n",
    "        count += 1\n",
    "        total_profit += profit\n",
    "\n",
    "        # Calculate Change in Profit/Loss\n",
    "        if compute == True:\n",
    "            profit_change = profit - change_line\n",
    "            change_line = profit\n",
    "            total_change += profit_change\n",
    "        else:\n",
    "             change_line = profit\n",
    "             total_change = 0\n",
    "             compute = True\n",
    "        \n",
    "        # Caculate Greatest Increase/Decrease in Profit/Loss\n",
    "        if minimum == 0:\n",
    "            minimum = profit_change\n",
    "            min_month = date\n",
    "        elif profit_change < minimum:\n",
    "            minimum = profit_change\n",
    "            min_month = date\n",
    "        elif profit_change > maximum:\n",
    "            maximum = profit_change\n",
    "            max_month = date\n",
    "    \n",
    "# Print Analysis\n",
    "print(\"FINANCIAL ANALYSIS\")\n",
    "print(\"-------------------------------\")\n",
    "print(f\"Total Months: {count}\")\n",
    "print(f\"Total: ${total_profit}\")\n",
    "print(f\"Average Change: ${round(total_change/(count-1), 2)}\")\n",
    "print(f\"Greatest increase in profit: {max_month} $({maximum})\")\n",
    "print(f\"Greatest decrease in profit: {min_month} $({minimum})\")\n",
    "    "
   ]
  },
  {
   "cell_type": "code",
   "execution_count": 56,
   "metadata": {},
   "outputs": [],
   "source": [
    "# Output to text file\n",
    "\n",
    "with open(\"financial_analysis_result.txt\", \"w\") as financial_analysis_result:\n",
    "\n",
    "    financial_analysis_result.write(\"FINANCIAL ANALYSIS\\n\")\n",
    "    financial_analysis_result.write(\"-------------------\\n\")\n",
    "    financial_analysis_result.write(f\"Total Months: ${str(count)}\\n\")\n",
    "    financial_analysis_result.write(f\"Total: ${str(total_profit)}\\n\")\n",
    "    financial_analysis_result.write(f\"Average Change: ${str(round(total_change/(count-1)))}\\n\")\n",
    "    financial_analysis_result.write(\"\\nGreatest Increase in Profits: \" + str(max_month) + \" (\" + str(maximum) + \")\")\n",
    "    financial_analysis_result.write(\"\\nGreatest Decrease in Profits: \" + str(min_month) + \" (\" + str(minimum) + \")\")"
   ]
  },
  {
   "cell_type": "code",
   "execution_count": null,
   "metadata": {},
   "outputs": [],
   "source": []
  }
 ]
}